{
  "cells": [
    {
      "cell_type": "code",
      "execution_count": 1,
      "metadata": {
        "id": "2b5xCLtVaJm7"
      },
      "outputs": [],
      "source": [
        "import pandas as pd\n",
        "from sklearn.model_selection import train_test_split\n",
        "from sklearn.preprocessing import StandardScaler\n",
        "from sklearn.neural_network import MLPClassifier\n",
        "from sklearn.ensemble import RandomForestClassifier\n",
        "from sklearn.tree import DecisionTreeClassifier\n",
        "from sklearn.metrics import accuracy_score"
      ]
    },
    {
      "cell_type": "code",
      "execution_count": 2,
      "metadata": {
        "id": "BUbhz919bYGL"
      },
      "outputs": [],
      "source": [
        "# Load the heart disease dataset\n",
        "data = pd.read_csv('Prostate_Cancer.csv')"
      ]
    },
    {
      "cell_type": "code",
      "execution_count": 5,
      "metadata": {
        "id": "K7goLcBebfHf"
      },
      "outputs": [],
      "source": [
        "# Split the dataset into features and target variable\n",
        "X = data.drop('diagnosis_result', axis=1)\n",
        "y = data['diagnosis_result']"
      ]
    },
    {
      "cell_type": "code",
      "execution_count": 7,
      "metadata": {},
      "outputs": [
        {
          "name": "stdout",
          "output_type": "stream",
          "text": [
            "0    M\n",
            "1    B\n",
            "2    M\n",
            "3    M\n",
            "4    M\n",
            "Name: diagnosis_result, dtype: object\n"
          ]
        }
      ],
      "source": [
        "# show the first 5 rows of the dataset of x and y\n",
        "# print(X.head())\n",
        "print(y.head())"
      ]
    },
    {
      "cell_type": "code",
      "execution_count": 8,
      "metadata": {
        "id": "pExnV_CLbjy1"
      },
      "outputs": [],
      "source": [
        "# Split the data into training and testing sets\n",
        "X_train, X_test, y_train, y_test = train_test_split(X, y, test_size=0.2, random_state=42)"
      ]
    },
    {
      "cell_type": "code",
      "execution_count": 9,
      "metadata": {
        "id": "a3yfMmuMboAg"
      },
      "outputs": [],
      "source": [
        "# Scale the features using StandardScaler\n",
        "scaler = StandardScaler()\n",
        "X_train = scaler.fit_transform(X_train)\n",
        "X_test = scaler.transform(X_test)"
      ]
    },
    {
      "cell_type": "code",
      "execution_count": 10,
      "metadata": {
        "colab": {
          "base_uri": "https://localhost:8080/"
        },
        "id": "miHZoSlUbsnY",
        "outputId": "84d3b5fd-67c7-40c8-d385-28de4bc8a65c"
      },
      "outputs": [
        {
          "name": "stdout",
          "output_type": "stream",
          "text": [
            "ANN Accuracy: 0.9\n"
          ]
        },
        {
          "name": "stderr",
          "output_type": "stream",
          "text": [
            "C:\\ProgramData\\anaconda3\\Lib\\site-packages\\sklearn\\neural_network\\_multilayer_perceptron.py:686: ConvergenceWarning: Stochastic Optimizer: Maximum iterations (200) reached and the optimization hasn't converged yet.\n",
            "  warnings.warn(\n"
          ]
        }
      ],
      "source": [
        "# Artificial Neural Network (ANN) model\n",
        "ann_model = MLPClassifier(hidden_layer_sizes=(100,), activation='relu', solver='adam', random_state=42)\n",
        "ann_model.fit(X_train, y_train)\n",
        "ann_predictions = ann_model.predict(X_test)\n",
        "ann_accuracy = accuracy_score(y_test, ann_predictions)\n",
        "print(\"ANN Accuracy:\", ann_accuracy)"
      ]
    },
    {
      "cell_type": "code",
      "execution_count": 11,
      "metadata": {
        "colab": {
          "base_uri": "https://localhost:8080/"
        },
        "id": "A8X36ylib3Rj",
        "outputId": "b8708a09-9222-4596-83c6-06d0f301d50e"
      },
      "outputs": [
        {
          "name": "stdout",
          "output_type": "stream",
          "text": [
            "DT Accuracy: 0.8\n"
          ]
        }
      ],
      "source": [
        "\n",
        "# Decision Tree (DT) model\n",
        "dt_model = DecisionTreeClassifier(random_state=42)\n",
        "dt_model.fit(X_train, y_train)\n",
        "dt_predictions = dt_model.predict(X_test)\n",
        "dt_accuracy = accuracy_score(y_test, dt_predictions)\n",
        "print(\"DT Accuracy:\", dt_accuracy)"
      ]
    },
    {
      "cell_type": "code",
      "execution_count": 21,
      "metadata": {},
      "outputs": [
        {
          "name": "stdout",
          "output_type": "stream",
          "text": [
            "LR Accuracy: 0.85\n"
          ]
        }
      ],
      "source": [
        "# Logestic Regression (LR) model\n",
        "from sklearn.linear_model import LogisticRegression\n",
        "lr_model = LogisticRegression(random_state=56, max_iter=10000, solver='newton-cg', multi_class='ovr', C=0.5)\n",
        "lr_model.fit(X_train, y_train)\n",
        "lr_predictions = lr_model.predict(X_test)\n",
        "lr_accuracy = accuracy_score(y_test, lr_predictions)\n",
        "print(\"LR Accuracy:\", lr_accuracy)\n"
      ]
    },
    {
      "cell_type": "code",
      "execution_count": 12,
      "metadata": {
        "colab": {
          "base_uri": "https://localhost:8080/"
        },
        "id": "vd7M2Yirb_XF",
        "outputId": "b7f808d8-b26e-4544-d344-3bbd45716256"
      },
      "outputs": [
        {
          "name": "stdout",
          "output_type": "stream",
          "text": [
            "Hybrid Accuracy: 0.8\n"
          ]
        }
      ],
      "source": [
        "# Combine predictions using a hybrid approach\n",
        "hybrid_predictions = []\n",
        "for i in range(len(X_test)):\n",
        "    ann_prediction = ann_predictions[i]\n",
        "    dt_prediction = dt_predictions[i]\n",
        "\n",
        "    if ann_prediction == dt_prediction:\n",
        "        hybrid_predictions.append(ann_prediction)\n",
        "    else:\n",
        "        hybrid_predictions.append(dt_prediction)\n",
        "\n",
        "hybrid_accuracy = accuracy_score(y_test, hybrid_predictions)\n",
        "print(\"Hybrid Accuracy:\", hybrid_accuracy)"
      ]
    }
  ],
  "metadata": {
    "colab": {
      "provenance": []
    },
    "kernelspec": {
      "display_name": "Python 3 (ipykernel)",
      "language": "python",
      "name": "python3"
    },
    "language_info": {
      "codemirror_mode": {
        "name": "ipython",
        "version": 3
      },
      "file_extension": ".py",
      "mimetype": "text/x-python",
      "name": "python",
      "nbconvert_exporter": "python",
      "pygments_lexer": "ipython3",
      "version": "3.11.7"
    }
  },
  "nbformat": 4,
  "nbformat_minor": 0
}
