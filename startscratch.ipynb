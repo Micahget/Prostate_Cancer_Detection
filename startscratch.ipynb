{
 "cells": [
  {
   "cell_type": "code",
   "execution_count": 1,
   "metadata": {},
   "outputs": [],
   "source": [
    "# import libraries\n",
    "import pandas as pd\n",
    "import numpy as np\n",
    "import matplotlib.pyplot as plt\n",
    "import seaborn as sns\n",
    "\n",
    "%matplotlib inline"
   ]
  },
  {
   "cell_type": "code",
   "execution_count": 4,
   "metadata": {},
   "outputs": [],
   "source": [
    "data = pd.read_csv('./Prostate_Cancer.csv')\n",
    "\n",
    "# print(data.shape)\n",
    "\n",
    "# data.head()\n",
    "# data.describe()\n",
    "# data.info()"
   ]
  },
  {
   "cell_type": "code",
   "execution_count": 5,
   "metadata": {},
   "outputs": [
    {
     "name": "stdout",
     "output_type": "stream",
     "text": [
      "Training data:  (80, 9)\n",
      "Test data:  (20, 9)\n"
     ]
    }
   ],
   "source": [
    "# drop column 'id' from the dataset to avoid overfitting\n",
    "from sklearn.model_selection import train_test_split\n",
    "data.drop(columns=['id'], axis=1, inplace=True)\n",
    "train, test = train_test_split(data, test_size=0.2, random_state=122)\n",
    "print('Training data: ', train.shape)\n",
    "print('Test data: ', test.shape)\n",
    "\n",
    "# Splitting the data into train and test\n",
    "Xtrain = train.drop(columns=['diagnosis_result'], axis=1)\n",
    "ytrain = train['diagnosis_result']\n",
    "\n",
    "Xtest = test.drop(columns=['diagnosis_result'], axis=1)\n",
    "ytest = test['diagnosis_result']"
   ]
  },
  {
   "cell_type": "code",
   "execution_count": 7,
   "metadata": {},
   "outputs": [],
   "source": [
    "# data preprocessing\n",
    "from sklearn.preprocessing import StandardScaler\n",
    "scaler = StandardScaler()\n",
    "Xtrain_scaled = scaler.fit_transform(Xtrain)\n",
    "Xtest_scaled = scaler.transform(Xtest)\n",
    "\n"
   ]
  },
  {
   "cell_type": "code",
   "execution_count": 8,
   "metadata": {},
   "outputs": [],
   "source": [
    "# feature Engineering\n",
    "from sklearn.decomposition import PCA\n",
    "pca = PCA()\n",
    "Xtrain_pca = pca.fit_transform(Xtrain_scaled)\n",
    "Xtest_pca = pca.transform(Xtest_scaled)"
   ]
  },
  {
   "cell_type": "code",
   "execution_count": 9,
   "metadata": {},
   "outputs": [],
   "source": [
    "from sklearn.preprocessing import PolynomialFeatures\n",
    "\n",
    "poly = PolynomialFeatures(degree=2)\n",
    "Xtrain_poly = poly.fit_transform(Xtrain_scaled)\n",
    "Xtest_poly = poly.transform(Xtest_scaled)"
   ]
  },
  {
   "cell_type": "code",
   "execution_count": 10,
   "metadata": {},
   "outputs": [
    {
     "name": "stdout",
     "output_type": "stream",
     "text": [
      "Defaulting to user installation because normal site-packages is not writeable\n",
      "Collecting imblearn\n",
      "  Downloading imblearn-0.0-py2.py3-none-any.whl.metadata (355 bytes)\n",
      "Requirement already satisfied: imbalanced-learn in c:\\programdata\\anaconda3\\lib\\site-packages (from imblearn) (0.11.0)\n",
      "Requirement already satisfied: numpy>=1.17.3 in c:\\programdata\\anaconda3\\lib\\site-packages (from imbalanced-learn->imblearn) (1.26.4)\n",
      "Requirement already satisfied: scipy>=1.5.0 in c:\\programdata\\anaconda3\\lib\\site-packages (from imbalanced-learn->imblearn) (1.11.4)\n",
      "Requirement already satisfied: scikit-learn>=1.0.2 in c:\\programdata\\anaconda3\\lib\\site-packages (from imbalanced-learn->imblearn) (1.2.2)\n",
      "Requirement already satisfied: joblib>=1.1.1 in c:\\programdata\\anaconda3\\lib\\site-packages (from imbalanced-learn->imblearn) (1.2.0)\n",
      "Requirement already satisfied: threadpoolctl>=2.0.0 in c:\\programdata\\anaconda3\\lib\\site-packages (from imbalanced-learn->imblearn) (2.2.0)\n",
      "Downloading imblearn-0.0-py2.py3-none-any.whl (1.9 kB)\n",
      "Installing collected packages: imblearn\n",
      "Successfully installed imblearn-0.0\n"
     ]
    }
   ],
   "source": [
    "! pip install imblearn\n",
    "from imblearn.over_sampling import SMOTE\n",
    "smote = SMOTE(random_state=42)\n",
    "\n",
    "Xtrain_smote, ytrain_smote = smote.fit_resample(Xtrain_scaled, ytrain)\n",
    "Xtrain_pca_smote, ytrain_pca_smote = smote.fit_resample(Xtrain_pca, ytrain)"
   ]
  },
  {
   "cell_type": "code",
   "execution_count": 15,
   "metadata": {},
   "outputs": [
    {
     "name": "stdout",
     "output_type": "stream",
     "text": [
      "Logistic Regression:  0.775\n",
      "Logistic Regression:  0.95\n",
      "PCA:  0.775\n",
      "PCA:  0.95\n",
      "Polynomial:  0.7375\n",
      "Polynomial:  0.8\n",
      "PCA and SMOTE:  0.8363157894736842\n",
      "PCA and SMOTE:  0.95\n"
     ]
    }
   ],
   "source": [
    "# model training\n",
    "from sklearn.model_selection import cross_val_score\n",
    "# imort Logistic Regression\n",
    "from sklearn.linear_model import LogisticRegression\n",
    "\n",
    "model = LogisticRegression()\n",
    "scores = cross_val_score(model, Xtrain_scaled, ytrain, cv=5, scoring='accuracy')\n",
    "print('Logistic Regression: ', scores.mean())\n",
    "# print the accuracy of the model\n",
    "model.fit(Xtrain_scaled, ytrain)\n",
    "print('Logistic Regression: ', model.score(Xtest_scaled, ytest))\n",
    "\n",
    "# PCA\n",
    "model = LogisticRegression()\n",
    "scores = cross_val_score(model, Xtrain_pca, ytrain, cv=5, scoring='accuracy')\n",
    "\n",
    "print('PCA: ', scores.mean())\n",
    "model.fit(Xtrain_pca, ytrain)\n",
    "print('PCA: ', model.score(Xtest_pca, ytest))\n",
    "\n",
    "# Polynomial\n",
    "model = LogisticRegression()\n",
    "scores = cross_val_score(model, Xtrain_poly, ytrain, cv=5, scoring='accuracy')\n",
    "print('Polynomial: ', scores.mean())\n",
    "model.fit(Xtrain_poly, ytrain)\n",
    "\n",
    "print('Polynomial: ', model.score(Xtest_poly, ytest))\n",
    "\n",
    "# pca and scaling\n",
    "model = LogisticRegression()\n",
    "scores = cross_val_score(model, Xtrain_pca_smote, ytrain_pca_smote, cv=5, scoring='accuracy')\n",
    "\n",
    "print('PCA and SMOTE: ', scores.mean())\n",
    "model.fit(Xtrain_pca_smote, ytrain_pca_smote)\n",
    "print('PCA and SMOTE: ', model.score(Xtest_pca, ytest))\n",
    "\n",
    "\n"
   ]
  }
 ],
 "metadata": {
  "kernelspec": {
   "display_name": "Python 3 (ipykernel)",
   "language": "python",
   "name": "python3"
  },
  "language_info": {
   "codemirror_mode": {
    "name": "ipython",
    "version": 3
   },
   "file_extension": ".py",
   "mimetype": "text/x-python",
   "name": "python",
   "nbconvert_exporter": "python",
   "pygments_lexer": "ipython3",
   "version": "3.11.7"
  }
 },
 "nbformat": 4,
 "nbformat_minor": 2
}
